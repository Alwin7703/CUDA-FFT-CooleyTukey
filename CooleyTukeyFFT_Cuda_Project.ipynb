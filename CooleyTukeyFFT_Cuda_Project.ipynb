{
  "nbformat": 4,
  "nbformat_minor": 0,
  "metadata": {
    "colab": {
      "provenance": [],
      "gpuType": "T4"
    },
    "kernelspec": {
      "name": "python3",
      "display_name": "Python 3"
    },
    "language_info": {
      "name": "python"
    },
    "accelerator": "GPU"
  },
  "cells": [
    {
      "cell_type": "code",
      "source": [
        "%%writefile fft_cuda.cu\n",
        "#include <stdio.h>\n",
        "#include <math.h>\n",
        "#include <cuda_runtime.h>\n",
        "\n",
        "// Define a simple structure for complex numbers\n",
        "typedef struct {\n",
        "    float x;  // Real part\n",
        "    float y;  // Imaginary part\n",
        "} Complex;\n",
        "\n",
        "// CUDA kernel for FFT computation (Cooley-Tukey)\n",
        "__global__ void fft_kernel(Complex *data, int N, int stage) {\n",
        "    int idx = threadIdx.x + blockIdx.x * blockDim.x;\n",
        "    if (idx >= N) return;\n",
        "\n",
        "    int halfSize = 1 << stage;  // Size of the current sub-problem\n",
        "    int step = 1 << (stage + 1); // Step size for the current stage\n",
        "\n",
        "    // Calculate indices for the even and odd elements\n",
        "    int evenIdx = idx;\n",
        "    int oddIdx = idx + halfSize;\n",
        "\n",
        "    if (oddIdx < N) {\n",
        "        Complex even = data[evenIdx];\n",
        "        Complex odd = data[oddIdx];\n",
        "\n",
        "        // Twiddle factor (complex exponential)\n",
        "        float angle = -2.0f * M_PI * (float)idx / (float)step;\n",
        "        Complex twiddle = {cos(angle), sin(angle)};\n",
        "\n",
        "        // Perform the FFT butterfly operation\n",
        "        Complex temp;\n",
        "        temp.x = twiddle.x * odd.x - twiddle.y * odd.y;\n",
        "        temp.y = twiddle.x * odd.y + twiddle.y * odd.x;\n",
        "\n",
        "        // Update the data array\n",
        "        data[evenIdx].x = even.x + temp.x;\n",
        "        data[evenIdx].y = even.y + temp.y;\n",
        "        data[oddIdx].x = even.x - temp.x;\n",
        "        data[oddIdx].y = even.y - temp.y;\n",
        "    }\n",
        "}\n",
        "\n",
        "// Host code to initialize, run, and print results\n",
        "void run_fft(Complex *data, int N) {\n",
        "    Complex *d_data;\n",
        "    cudaMalloc((void**)&d_data, sizeof(Complex) * N);\n",
        "    cudaMemcpy(d_data, data, sizeof(Complex) * N, cudaMemcpyHostToDevice);\n",
        "\n",
        "    // Perform FFT over multiple stages\n",
        "    int threadsPerBlock = 256;\n",
        "    int numBlocks = (N + threadsPerBlock - 1) / threadsPerBlock;\n",
        "\n",
        "    // Log2(N) stages\n",
        "    int logN = log2f(N);\n",
        "    for (int stage = 0; stage < logN; ++stage) {\n",
        "        fft_kernel<<<numBlocks, threadsPerBlock>>>(d_data, N, stage);\n",
        "        cudaDeviceSynchronize();\n",
        "    }\n",
        "\n",
        "    // Copy the result back to host\n",
        "    cudaMemcpy(data, d_data, sizeof(Complex) * N, cudaMemcpyDeviceToHost);\n",
        "\n",
        "    cudaFree(d_data);\n",
        "}\n",
        "\n",
        "int main() {\n",
        "    int N = 16;  // FFT size (must be a power of 2)\n",
        "\n",
        "    // Create input data (complex values, here using a simple sine wave)\n",
        "    Complex *data = (Complex*)malloc(sizeof(Complex) * N);\n",
        "    for (int i = 0; i < N; i++) {\n",
        "        data[i].x = cos(2 * M_PI * i / N);  // Real part\n",
        "        data[i].y = sin(2 * M_PI * i / N);  // Imaginary part\n",
        "    }\n",
        "\n",
        "    // Run FFT on the GPU\n",
        "    run_fft(data, N);\n",
        "\n",
        "    // Print the results\n",
        "    for (int i = 0; i < N; i++) {\n",
        "        printf(\"data[%d] = %f + %fi\\n\", i, data[i].x, data[i].y);\n",
        "    }\n",
        "\n",
        "    free(data);\n",
        "    return 0;\n",
        "}\n",
        "\n"
      ],
      "metadata": {
        "colab": {
          "base_uri": "https://localhost:8080/"
        },
        "id": "EfyeGkbSGwXi",
        "outputId": "0cac4b78-ba00-46c9-f01f-ec3e2f5fe949"
      },
      "execution_count": 1,
      "outputs": [
        {
          "output_type": "stream",
          "name": "stdout",
          "text": [
            "Writing fft_cuda.cu\n"
          ]
        }
      ]
    },
    {
      "cell_type": "code",
      "source": [
        "! nvcc fft_cuda.cu -o fft_cuda"
      ],
      "metadata": {
        "id": "A9CN8fGdBvvC"
      },
      "execution_count": 2,
      "outputs": []
    },
    {
      "cell_type": "code",
      "source": [
        "! ./fft_cuda"
      ],
      "metadata": {
        "colab": {
          "base_uri": "https://localhost:8080/"
        },
        "id": "phzgF86_B-gC",
        "outputId": "e2ff0ed3-ad81-4f75-a252-64e0069b92f9"
      },
      "execution_count": 3,
      "outputs": [
        {
          "output_type": "stream",
          "name": "stdout",
          "text": [
            "data[0] = 4.568536 + 9.513482i\n",
            "data[1] = 0.458804 + -2.521863i\n",
            "data[2] = 3.082391 + -3.847759i\n",
            "data[3] = 1.000000 + -0.414212i\n",
            "data[4] = 6.568534 + -0.541195i\n",
            "data[5] = -0.458804 + -0.306563i\n",
            "data[6] = 0.000001 + 0.765366i\n",
            "data[7] = 0.171571 + 0.414213i\n",
            "data[8] = 6.568536 + -0.541196i\n",
            "data[9] = -1.021412 + -0.306563i\n",
            "data[10] = -1.910818 + -0.511402i\n",
            "data[11] = -0.082392 + -0.198913i\n",
            "data[12] = -3.486143 + -2.541197i\n",
            "data[13] = 0.458804 + 0.306562i\n",
            "data[14] = -0.000001 + 0.765368i\n",
            "data[15] = 0.082393 + -0.034129i\n"
          ]
        }
      ]
    },
    {
      "cell_type": "code",
      "source": [],
      "metadata": {
        "id": "B2TEOIaOCE5R"
      },
      "execution_count": null,
      "outputs": []
    }
  ]
}